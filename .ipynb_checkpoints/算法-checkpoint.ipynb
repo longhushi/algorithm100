{
 "cells": [
  {
   "cell_type": "markdown",
   "id": "0d3cdc7d",
   "metadata": {},
   "source": [
    "> 1.1 一辆卡车违反交通规则，撞人后逃跑。现场有三人目击该事件，但都没有记住车号，只记下了车号的一些特征。甲说：牌照的前两位数字是相同的；乙说：牌照的后两位数字是相同的，\n",
    "但与前两位不同；丙是数学家，他说，4位的车号刚好是一个整数的平方。请根据以上线索求出车号。"
   ]
  },
  {
   "cell_type": "code",
   "execution_count": 2,
   "id": "47000abe",
   "metadata": {},
   "outputs": [
    {
     "name": "stdout",
     "output_type": "stream",
     "text": [
      "7744\n"
     ]
    }
   ],
   "source": [
    "import math\n",
    "\n",
    "for a in range(0,10):\n",
    "    for b in range(0,10):\n",
    "        num = 1000*a + 100*a + 10*b + b\n",
    "        if b==a:\n",
    "            continue\n",
    "        elif math.sqrt(num)==int(math.sqrt(num)):\n",
    "            print(num)"
   ]
  },
  {
   "cell_type": "code",
   "execution_count": null,
   "id": "369e6411",
   "metadata": {},
   "outputs": [],
   "source": []
  },
  {
   "cell_type": "code",
   "execution_count": null,
   "id": "ea3f0d93",
   "metadata": {},
   "outputs": [],
   "source": []
  }
 ],
 "metadata": {
  "kernelspec": {
   "display_name": "Python 3 (ipykernel)",
   "language": "python",
   "name": "python3"
  },
  "language_info": {
   "codemirror_mode": {
    "name": "ipython",
    "version": 3
   },
   "file_extension": ".py",
   "mimetype": "text/x-python",
   "name": "python",
   "nbconvert_exporter": "python",
   "pygments_lexer": "ipython3",
   "version": "3.9.13"
  }
 },
 "nbformat": 4,
 "nbformat_minor": 5
}
